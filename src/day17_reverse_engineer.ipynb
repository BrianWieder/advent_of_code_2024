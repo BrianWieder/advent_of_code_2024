{
 "cells": [
  {
   "cell_type": "code",
   "execution_count": 26,
   "metadata": {},
   "outputs": [],
   "source": [
    "def f(a,b,c):\n",
    "    res = []\n",
    "    while True:\n",
    "        b = a % 8\n",
    "        b = b ^ 5\n",
    "        c = a // pow(2, b)\n",
    "        a = a // pow(2, 3)\n",
    "        b = b ^ c\n",
    "        b = b ^ 6\n",
    "        res.append(b % 8)\n",
    "        if a == 0:\n",
    "            break\n",
    "    return res\n",
    "\n",
    "target = [2,4,1,5,7,5,0,3,4,0,1,6,5,5,3,0]\n",
    "    "
   ]
  },
  {
   "cell_type": "code",
   "execution_count": 15,
   "metadata": {},
   "outputs": [
    {
     "name": "stdout",
     "output_type": "stream",
     "text": [
      "0o6100000000000000\n",
      "[3, 3, 3, 3, 3, 3, 3, 3, 3, 3, 3, 3, 1, 7, 1, 5]\n"
     ]
    }
   ],
   "source": [
    "x = 0o6100000000000000\n",
    "print(oct(x))\n",
    "print(f(x,0,0))"
   ]
  },
  {
   "cell_type": "code",
   "execution_count": 16,
   "metadata": {},
   "outputs": [
    {
     "name": "stdout",
     "output_type": "stream",
     "text": [
      "0o1234567235457412\n",
      "[7, 4, 1, 7, 3, 1, 3, 7, 6, 1, 0, 3, 1, 1, 1, 2]\n"
     ]
    }
   ],
   "source": [
    "x = 0o1234567235457412\n",
    "# = 0o0000000000000000\n",
    "print(oct(x))\n",
    "print(f(x,0,0))"
   ]
  },
  {
   "cell_type": "code",
   "execution_count": 19,
   "metadata": {},
   "outputs": [
    {
     "name": "stdout",
     "output_type": "stream",
     "text": [
      "0o4234567235457412\n",
      "[7, 4, 1, 7, 3, 1, 3, 7, 6, 1, 0, 3, 1, 4, 1, 5]\n"
     ]
    }
   ],
   "source": [
    "x = 0o4234567235457412\n",
    "# = 0o0000000000000000\n",
    "print(oct(x))\n",
    "print(f(x,0,0))"
   ]
  },
  {
   "cell_type": "code",
   "execution_count": 40,
   "metadata": {},
   "outputs": [
    {
     "name": "stdout",
     "output_type": "stream",
     "text": [
      "[5]\n"
     ]
    }
   ],
   "source": [
    "print(f(0o6, 0, 0))"
   ]
  },
  {
   "cell_type": "code",
   "execution_count": 31,
   "metadata": {},
   "outputs": [
    {
     "data": {
      "text/plain": [
       "4"
      ]
     },
     "execution_count": 31,
     "metadata": {},
     "output_type": "execute_result"
    }
   ],
   "source": [
    "1^5"
   ]
  },
  {
   "cell_type": "code",
   "execution_count": 91,
   "metadata": {},
   "outputs": [
    {
     "name": "stdout",
     "output_type": "stream",
     "text": [
      "0o3 [0]\n",
      "0o30 [3, 0]\n",
      "0o300 [5, 3, 0]\n",
      "0o3002 [5, 5, 3, 0]\n",
      "broke at 4 ['3', '0', '0', '2'] [6, 5, 5, 3, 0]\n"
     ]
    }
   ],
   "source": [
    "ans = []\n",
    "for i in range(30):\n",
    "    curr_target = target[-i-1:]\n",
    "    for j in range(1000):\n",
    "        ans.append(str(oct(j)).replace('0o',''))\n",
    "        v = ''.join([str(x) for x in ans])\n",
    "        v = int(v, 8)\n",
    "        t = f(v,0,0)\n",
    "        if t == curr_target:\n",
    "            print(oct(v), f(v,0,0))\n",
    "            break\n",
    "        # if i == 4:\n",
    "        #     print(t)\n",
    "        ans.pop()\n",
    "    if len(ans) != i + 1:\n",
    "        print(f'broke at {i}', ans, curr_target)\n",
    "        break"
   ]
  },
  {
   "cell_type": "code",
   "execution_count": 80,
   "metadata": {},
   "outputs": [
    {
     "data": {
      "text/plain": [
       "[1, 5, 3, 3, 4, 2, 4, 1, 5, 4, 3, 7, 3, 0, 5, 1]"
      ]
     },
     "execution_count": 80,
     "metadata": {},
     "output_type": "execute_result"
    }
   ],
   "source": [
    "f(0o2415750340165530, 0, 0)"
   ]
  },
  {
   "cell_type": "code",
   "execution_count": 97,
   "metadata": {},
   "outputs": [],
   "source": [
    "def explore(x):\n",
    "    tmp = [v for v in x]\n",
    "    curr_target = target[-(len(x)+1):]\n",
    "    whole = target == curr_target\n",
    "    print(curr_target, whole)\n",
    "    for i in range(8):\n",
    "        tmp.append(i)\n",
    "        v = ''.join([str(x) for x in tmp])\n",
    "        v = int(v, 8)\n",
    "        t = f(v,0,0)\n",
    "        if t == curr_target:\n",
    "            if whole:\n",
    "                print(oct(v), f(v,0,0))\n",
    "                return True\n",
    "            else:\n",
    "                if explore(tmp):\n",
    "                    return True\n",
    "        tmp.pop()"
   ]
  },
  {
   "cell_type": "code",
   "execution_count": 98,
   "metadata": {},
   "outputs": [
    {
     "name": "stdout",
     "output_type": "stream",
     "text": [
      "[0] False\n",
      "[3, 0] False\n",
      "[5, 3, 0] False\n",
      "[5, 5, 3, 0] False\n",
      "[6, 5, 5, 3, 0] False\n",
      "[6, 5, 5, 3, 0] False\n",
      "[6, 5, 5, 3, 0] False\n",
      "[6, 5, 5, 3, 0] False\n",
      "[5, 5, 3, 0] False\n",
      "[6, 5, 5, 3, 0] False\n",
      "[6, 5, 5, 3, 0] False\n",
      "[6, 5, 5, 3, 0] False\n",
      "[5, 5, 3, 0] False\n",
      "[6, 5, 5, 3, 0] False\n",
      "[1, 6, 5, 5, 3, 0] False\n",
      "[0, 1, 6, 5, 5, 3, 0] False\n",
      "[4, 0, 1, 6, 5, 5, 3, 0] False\n",
      "[3, 4, 0, 1, 6, 5, 5, 3, 0] False\n",
      "[0, 3, 4, 0, 1, 6, 5, 5, 3, 0] False\n",
      "[5, 0, 3, 4, 0, 1, 6, 5, 5, 3, 0] False\n",
      "[7, 5, 0, 3, 4, 0, 1, 6, 5, 5, 3, 0] False\n",
      "[5, 7, 5, 0, 3, 4, 0, 1, 6, 5, 5, 3, 0] False\n",
      "[1, 5, 7, 5, 0, 3, 4, 0, 1, 6, 5, 5, 3, 0] False\n",
      "[4, 1, 5, 7, 5, 0, 3, 4, 0, 1, 6, 5, 5, 3, 0] False\n",
      "[2, 4, 1, 5, 7, 5, 0, 3, 4, 0, 1, 6, 5, 5, 3, 0] True\n",
      "0o3062342312204233 [2, 4, 1, 5, 7, 5, 0, 3, 4, 0, 1, 6, 5, 5, 3, 0]\n"
     ]
    },
    {
     "data": {
      "text/plain": [
       "True"
      ]
     },
     "execution_count": 98,
     "metadata": {},
     "output_type": "execute_result"
    }
   ],
   "source": [
    "explore([])"
   ]
  },
  {
   "cell_type": "code",
   "execution_count": 99,
   "metadata": {},
   "outputs": [
    {
     "data": {
      "text/plain": [
       "[2, 4, 1, 5, 7, 5, 0, 3, 4, 0, 1, 6, 5, 5, 3, 0]"
      ]
     },
     "execution_count": 99,
     "metadata": {},
     "output_type": "execute_result"
    }
   ],
   "source": [
    "f(0o3062342312204233, 0,0 )"
   ]
  },
  {
   "cell_type": "code",
   "execution_count": null,
   "metadata": {},
   "outputs": [],
   "source": []
  }
 ],
 "metadata": {
  "kernelspec": {
   "display_name": ".venv",
   "language": "python",
   "name": "python3"
  },
  "language_info": {
   "codemirror_mode": {
    "name": "ipython",
    "version": 3
   },
   "file_extension": ".py",
   "mimetype": "text/x-python",
   "name": "python",
   "nbconvert_exporter": "python",
   "pygments_lexer": "ipython3",
   "version": "3.12.4"
  }
 },
 "nbformat": 4,
 "nbformat_minor": 2
}
